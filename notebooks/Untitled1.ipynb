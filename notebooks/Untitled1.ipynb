{
 "cells": [
  {
   "cell_type": "code",
   "execution_count": 4,
   "metadata": {},
   "outputs": [],
   "source": [
    "import toytree\n",
    "import ipyrad.analysis as ipa\n",
    "import tempfile"
   ]
  },
  {
   "cell_type": "code",
   "execution_count": 2,
   "metadata": {},
   "outputs": [
    {
     "data": {
      "text/html": [
       "<div class=\"toyplot\" id=\"te7339aaceff148abb5c7daaa7033efbb\" style=\"text-align:center\"><svg class=\"toyplot-canvas-Canvas\" height=\"275.0px\" id=\"td7f0a15d11a34e6aa233677dfbb81086\" preserveAspectRatio=\"xMidYMid meet\" style=\"background-color:transparent;border-color:#292724;border-style:none;border-width:1.0;fill:rgb(16.1%,15.3%,14.1%);fill-opacity:1.0;font-family:Helvetica;font-size:12px;opacity:1.0;stroke:rgb(16.1%,15.3%,14.1%);stroke-opacity:1.0;stroke-width:1.0\" viewBox=\"0 0 265.0 275.0\" width=\"265.0px\" xmlns=\"http://www.w3.org/2000/svg\" xmlns:toyplot=\"http://www.sandia.gov/toyplot\" xmlns:xlink=\"http://www.w3.org/1999/xlink\"><g class=\"toyplot-coordinates-Cartesian\" id=\"t90d1e7fbb30e46689e7aad635e46850c\"><clipPath id=\"t9bf8a790c5644785b88b245cd1154ef2\"><rect height=\"215.0\" width=\"205.0\" x=\"30.0\" y=\"30.0\"></rect></clipPath><g clip-path=\"url(#t9bf8a790c5644785b88b245cd1154ef2)\"><g class=\"toytree-mark-Toytree\" id=\"t80bbaf542a4c471c94850a75886edd4c\"><g class=\"toytree-Edges\" style=\"fill:none;stroke:rgb(14.9%,14.9%,14.9%);stroke-linecap:round;stroke-opacity:1;stroke-width:2\"><path d=\"M 50.0 114.2 L 50.0 74.1 L 73.2 74.1\" id=\"22,21\"></path><path d=\"M 50.0 114.2 L 50.0 154.4 L 73.2 154.4\" id=\"22,20\"></path><path d=\"M 73.2 74.1 L 73.2 87.1 L 96.5 87.1\" id=\"21,19\"></path><path d=\"M 73.2 154.4 L 73.2 137.5 L 96.5 137.5\" id=\"20,18\"></path><path d=\"M 73.2 154.4 L 73.2 171.4 L 96.5 171.4\" id=\"20,17\"></path><path d=\"M 96.5 87.1 L 96.5 99.3 L 119.7 99.3\" id=\"19,16\"></path><path d=\"M 96.5 171.4 L 96.5 184.4 L 119.7 184.4\" id=\"17,15\"></path><path d=\"M 119.7 99.3 L 119.7 109.7 L 142.9 109.7\" id=\"16,14\"></path><path d=\"M 119.7 184.4 L 119.7 196.6 L 142.9 196.6\" id=\"15,13\"></path><path d=\"M 142.9 196.6 L 142.9 207.0 L 166.1 207.0\" id=\"13,12\"></path><path d=\"M 73.2 74.1 L 73.2 61.0 L 189.4 61.0\" id=\"21,11\"></path><path d=\"M 96.5 87.1 L 96.5 74.9 L 189.4 74.9\" id=\"19,10\"></path><path d=\"M 119.7 99.3 L 119.7 88.8 L 189.4 88.8\" id=\"16,9\"></path><path d=\"M 142.9 109.7 L 142.9 102.7 L 189.4 102.7\" id=\"14,8\"></path><path d=\"M 142.9 109.7 L 142.9 116.6 L 189.4 116.6\" id=\"14,7\"></path><path d=\"M 96.5 137.5 L 96.5 130.5 L 189.4 130.5\" id=\"18,6\"></path><path d=\"M 96.5 137.5 L 96.5 144.5 L 189.4 144.5\" id=\"18,5\"></path><path d=\"M 96.5 171.4 L 96.5 158.4 L 189.4 158.4\" id=\"17,4\"></path><path d=\"M 119.7 184.4 L 119.7 172.3 L 189.4 172.3\" id=\"15,3\"></path><path d=\"M 142.9 196.6 L 142.9 186.2 L 189.4 186.2\" id=\"13,2\"></path><path d=\"M 166.1 207.0 L 166.1 200.1 L 189.4 200.1\" id=\"12,1\"></path><path d=\"M 166.1 207.0 L 166.1 214.0 L 189.4 214.0\" id=\"12,0\"></path></g><g class=\"toytree-Nodes\" style=\"fill:rgb(40%,76.1%,64.7%);fill-opacity:1.0;stroke:None;stroke-width:1\"><g id=\"node-0\" transform=\"translate(189.369,213.986)\"><circle r=\"0.0\"></circle></g><g id=\"node-1\" transform=\"translate(189.369,200.079)\"><circle r=\"0.0\"></circle></g><g id=\"node-2\" transform=\"translate(189.369,186.173)\"><circle r=\"0.0\"></circle></g><g id=\"node-3\" transform=\"translate(189.369,172.266)\"><circle r=\"0.0\"></circle></g><g id=\"node-4\" transform=\"translate(189.369,158.360)\"><circle r=\"0.0\"></circle></g><g id=\"node-5\" transform=\"translate(189.369,144.453)\"><circle r=\"0.0\"></circle></g><g id=\"node-6\" transform=\"translate(189.369,130.547)\"><circle r=\"0.0\"></circle></g><g id=\"node-7\" transform=\"translate(189.369,116.640)\"><circle r=\"0.0\"></circle></g><g id=\"node-8\" transform=\"translate(189.369,102.734)\"><circle r=\"0.0\"></circle></g><g id=\"node-9\" transform=\"translate(189.369,88.827)\"><circle r=\"0.0\"></circle></g><g id=\"node-10\" transform=\"translate(189.369,74.921)\"><circle r=\"0.0\"></circle></g><g id=\"node-11\" transform=\"translate(189.369,61.014)\"><circle r=\"0.0\"></circle></g><g id=\"node-12\" transform=\"translate(166.141,207.033)\"><circle r=\"6.0\"></circle></g><g id=\"node-13\" transform=\"translate(142.913,196.603)\"><circle r=\"6.0\"></circle></g><g id=\"node-14\" transform=\"translate(142.913,109.687)\"><circle r=\"6.0\"></circle></g><g id=\"node-15\" transform=\"translate(119.684,184.435)\"><circle r=\"6.0\"></circle></g><g id=\"node-16\" transform=\"translate(119.684,99.257)\"><circle r=\"6.0\"></circle></g><g id=\"node-17\" transform=\"translate(96.456,171.397)\"><circle r=\"6.0\"></circle></g><g id=\"node-18\" transform=\"translate(96.456,137.500)\"><circle r=\"6.0\"></circle></g><g id=\"node-19\" transform=\"translate(96.456,87.089)\"><circle r=\"6.0\"></circle></g><g id=\"node-20\" transform=\"translate(73.228,154.449)\"><circle r=\"6.0\"></circle></g><g id=\"node-21\" transform=\"translate(73.228,74.051)\"><circle r=\"6.0\"></circle></g><g id=\"node-22\" transform=\"translate(50.000,114.250)\"><circle r=\"0.0\"></circle></g></g><g class=\"toytree-NodeLabels\" style=\"fill:rgb(14.9%,14.9%,14.9%);fill-opacity:1.0;font-size:9px;stroke:none\"><g transform=\"translate(161.14,209.33)\"><text>12</text></g><g transform=\"translate(137.91,198.90)\"><text>13</text></g><g transform=\"translate(137.91,111.99)\"><text>14</text></g><g transform=\"translate(114.68,186.73)\"><text>15</text></g><g transform=\"translate(114.68,101.56)\"><text>16</text></g><g transform=\"translate(91.45,173.70)\"><text>17</text></g><g transform=\"translate(91.45,139.80)\"><text>18</text></g><g transform=\"translate(91.45,89.39)\"><text>19</text></g><g transform=\"translate(68.22,156.75)\"><text>20</text></g><g transform=\"translate(68.22,76.35)\"><text>21</text></g></g><g class=\"toytree-TipLabels\" style=\"fill:rgb(14.9%,14.9%,14.9%);fill-opacity:1.0;font-family:helvetica;font-size:11px;font-weight:normal;stroke:none;white-space:pre\"><g transform=\"translate(189.37,213.99)rotate(0)\"><text style=\"\" x=\"15.00\" y=\"2.81\">r0</text></g><g transform=\"translate(189.37,200.08)rotate(0)\"><text style=\"\" x=\"15.00\" y=\"2.81\">r1</text></g><g transform=\"translate(189.37,186.17)rotate(0)\"><text style=\"\" x=\"15.00\" y=\"2.81\">r2</text></g><g transform=\"translate(189.37,172.27)rotate(0)\"><text style=\"\" x=\"15.00\" y=\"2.81\">r3</text></g><g transform=\"translate(189.37,158.36)rotate(0)\"><text style=\"\" x=\"15.00\" y=\"2.81\">r4</text></g><g transform=\"translate(189.37,144.45)rotate(0)\"><text style=\"\" x=\"15.00\" y=\"2.81\">r5</text></g><g transform=\"translate(189.37,130.55)rotate(0)\"><text style=\"\" x=\"15.00\" y=\"2.81\">r6</text></g><g transform=\"translate(189.37,116.64)rotate(0)\"><text style=\"\" x=\"15.00\" y=\"2.81\">r7</text></g><g transform=\"translate(189.37,102.73)rotate(0)\"><text style=\"\" x=\"15.00\" y=\"2.81\">r8</text></g><g transform=\"translate(189.37,88.83)rotate(0)\"><text style=\"\" x=\"15.00\" y=\"2.81\">r9</text></g><g transform=\"translate(189.37,74.92)rotate(0)\"><text style=\"\" x=\"15.00\" y=\"2.81\">r10</text></g><g transform=\"translate(189.37,61.01)rotate(0)\"><text style=\"\" x=\"15.00\" y=\"2.81\">r11</text></g></g></g></g></g></svg><div class=\"toyplot-behavior\"><script>(function()\n",
       "{\n",
       "var modules={};\n",
       "})();</script></div></div>"
      ]
     },
     "metadata": {},
     "output_type": "display_data"
    }
   ],
   "source": [
    "ttree = toytree.tree(\"/home/henry/phylo-timescale/tree.tre\")\n",
    "ttree.draw(node_labels=\"idx\", node_sizes=12);"
   ]
  },
  {
   "cell_type": "code",
   "execution_count": 6,
   "metadata": {},
   "outputs": [],
   "source": [
    "mba = ipa.mrbayes(\n",
    "    data=\"/home/henry/phylo-timescale/nexus-files/model_g_large_diploid.nex\",\n",
    "    name=\"tmp\",\n",
    "    workdir=tempfile.gettempdir(),\n",
    "    clock_model=2,\n",
    "    constraints=ttree,\n",
    "    ngen=int(1e6),\n",
    "    nruns=2,\n",
    ")"
   ]
  },
  {
   "cell_type": "code",
   "execution_count": 7,
   "metadata": {},
   "outputs": [
    {
     "data": {
      "text/plain": [
       "'/tmp/tmp.nex'"
      ]
     },
     "execution_count": 7,
     "metadata": {},
     "output_type": "execute_result"
    }
   ],
   "source": [
    "mba.run()"
   ]
  }
 ],
 "metadata": {
  "kernelspec": {
   "display_name": "Python 3",
   "language": "python",
   "name": "python3"
  },
  "language_info": {
   "codemirror_mode": {
    "name": "ipython",
    "version": 3
   },
   "file_extension": ".py",
   "mimetype": "text/x-python",
   "name": "python",
   "nbconvert_exporter": "python",
   "pygments_lexer": "ipython3",
   "version": "3.7.9"
  }
 },
 "nbformat": 4,
 "nbformat_minor": 4
}
