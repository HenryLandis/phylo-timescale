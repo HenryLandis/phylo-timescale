{
 "cells": [
  {
   "cell_type": "code",
   "execution_count": 2,
   "metadata": {},
   "outputs": [],
   "source": [
    "import ipyrad.analysis as ipa\n",
    "import numpy as np\n",
    "import pandas as pd\n",
    "import toyplot\n",
    "import toytree"
   ]
  },
  {
   "cell_type": "code",
   "execution_count": 3,
   "metadata": {},
   "outputs": [
    {
     "data": {
      "text/plain": [
       "'0.9.62'"
      ]
     },
     "execution_count": 3,
     "metadata": {},
     "output_type": "execute_result"
    }
   ],
   "source": [
    "ipa.__version__"
   ]
  },
  {
   "cell_type": "code",
   "execution_count": 13,
   "metadata": {},
   "outputs": [],
   "source": [
    "# Import raxml trees.\n",
    "real_small = toytree.tree(\"/home/henry/phylo-timescale/raxml/RAxML_bipartitions.concat_real_small\")\n",
    "real_large = toytree.tree(\"/home/henry/phylo-timescale/raxml/RAxML_bipartitions.concat_real_large\")\n",
    "ne_small = toytree.tree(\"/home/henry/phylo-timescale/raxml/RAxML_bipartitions.concat_ne_small\")\n",
    "ne_large = toytree.tree(\"/home/henry/phylo-timescale/raxml/RAxML_bipartitions.concat_ne_large\")\n",
    "g_small = toytree.tree(\"/home/henry/phylo-timescale/raxml/RAxML_bipartitions.concat_g_small\")\n",
    "g_large = toytree.tree(\"/home/henry/phylo-timescale/raxml/RAxML_bipartitions.concat_g_large\")\n",
    "both_small = toytree.tree(\"/home/henry/phylo-timescale/raxml/RAxML_bipartitions.concat_both_small\")\n",
    "both_large = toytree.tree(\"/home/henry/phylo-timescale/raxml/RAxML_bipartitions.concat_both_large\")\n",
    "chp_small = toytree.tree(\"/home/henry/phylo-timescale/raxml/RAxML_bipartitions.concat_chp_small\")\n",
    "chp_large = toytree.tree(\"/home/henry/phylo-timescale/raxml/RAxML_bipartitions.concat_chp_large\")"
   ]
  },
  {
   "cell_type": "code",
   "execution_count": 16,
   "metadata": {},
   "outputs": [],
   "source": [
    "# Import the dictionaries for ne and g used on the variants of the true species tree.\n",
    "import json\n",
    "with open(\"/home/henry/phylo-timescale/dict_ne\", \"r\") as file:\n",
    "    dict_ne = json.load(file)\n",
    "with open(\"/home/henry/phylo-timescale/dict_g\", \"r\") as file:\n",
    "    dict_g = json.load(file)\n",
    "with open(\"/home/henry/phylo-timescale/dict_ne_for_real\", \"r\") as file:\n",
    "    dict_ne_for_real = json.load(file)\n",
    "with open(\"/home/henry/phylo-timescale/dict_ne_for_g\", \"r\") as file:\n",
    "    dict_ne_for_g = json.load(file)\n",
    "with open(\"/home/henry/phylo-timescale/dict_g_for_real\", \"r\") as file:\n",
    "    dict_g_for_real = json.load(file)\n",
    "with open(\"/home/henry/phylo-timescale/dict_g_for_ne\", \"r\") as file:\n",
    "    dict_g_for_ne = json.load(file)\n",
    "with open(\"/home/henry/phylo-timescale/dict_ne_for_chp\", \"r\") as file:\n",
    "    dict_ne_for_chp = json.load(file)\n",
    "with open(\"/home/henry/phylo-timescale/dict_g_for_chp\", \"r\") as file:\n",
    "    dict_g_for_chp = json.load(file)"
   ]
  },
  {
   "cell_type": "code",
   "execution_count": 19,
   "metadata": {},
   "outputs": [
    {
     "ename": "ToytreeError",
     "evalue": "node idx or name 98 not in tree",
     "output_type": "error",
     "traceback": [
      "\u001b[0;31m---------------------------------------------------------------------------\u001b[0m",
      "\u001b[0;31mToytreeError\u001b[0m                              Traceback (most recent call last)",
      "\u001b[0;32m<ipython-input-19-de02c5d4bc7f>\u001b[0m in \u001b[0;36m<module>\u001b[0;34m\u001b[0m\n\u001b[1;32m      1\u001b[0m \u001b[0;31m# Set appropriate dictionaries onto raxml trees.\u001b[0m\u001b[0;34m\u001b[0m\u001b[0;34m\u001b[0m\u001b[0;34m\u001b[0m\u001b[0m\n\u001b[0;32m----> 2\u001b[0;31m \u001b[0mg_small\u001b[0m \u001b[0;34m=\u001b[0m \u001b[0mg_small\u001b[0m\u001b[0;34m.\u001b[0m\u001b[0mset_node_values\u001b[0m\u001b[0;34m(\u001b[0m\u001b[0;34m\"g\"\u001b[0m\u001b[0;34m,\u001b[0m \u001b[0mdict_g\u001b[0m\u001b[0;34m)\u001b[0m\u001b[0;34m\u001b[0m\u001b[0;34m\u001b[0m\u001b[0m\n\u001b[0m",
      "\u001b[0;32m~/miniconda3/envs/py37/lib/python3.7/site-packages/toytree/Toytree.py\u001b[0m in \u001b[0;36mset_node_values\u001b[0;34m(self, feature, values, default)\u001b[0m\n\u001b[1;32m    613\u001b[0m                     \u001b[0;32mif\u001b[0m \u001b[0mnidx\u001b[0m \u001b[0;32mnot\u001b[0m \u001b[0;32min\u001b[0m \u001b[0mndict\u001b[0m\u001b[0;34m:\u001b[0m\u001b[0;34m\u001b[0m\u001b[0;34m\u001b[0m\u001b[0m\n\u001b[1;32m    614\u001b[0m                         raise ToytreeError(\n\u001b[0;32m--> 615\u001b[0;31m                             \"node idx or name {} not in tree\".format(nidx))\n\u001b[0m\u001b[1;32m    616\u001b[0m \u001b[0;34m\u001b[0m\u001b[0m\n\u001b[1;32m    617\u001b[0m                 \u001b[0;31m# or, set everyone to a null value\u001b[0m\u001b[0;34m\u001b[0m\u001b[0;34m\u001b[0m\u001b[0;34m\u001b[0m\u001b[0m\n",
      "\u001b[0;31mToytreeError\u001b[0m: node idx or name 98 not in tree"
     ]
    }
   ],
   "source": [
    "# Set appropriate dictionaries onto raxml trees.\n",
    "g_small = g_small.set_node_values(\"g\", dict_g)"
   ]
  },
  {
   "cell_type": "code",
   "execution_count": 2,
   "metadata": {},
   "outputs": [],
   "source": [
    "# Input parameters.\n",
    "tree = \"/home/henry/phylo-timescale/newick/realtree.tre\"\n",
    "gentime_min = 0.8\n",
    "gentime_max = 1.2\n",
    "mutrate_min = 5e-9\n",
    "mutrate_max = 9e-9\n",
    "thetaprior = (3.5, 0.015)\n",
    "tauprior = (3.5, 0.0015)"
   ]
  },
  {
   "cell_type": "code",
   "execution_count": 6,
   "metadata": {},
   "outputs": [
    {
     "data": {
      "text/html": [
       "<div class=\"toyplot\" id=\"t3fa34119061b47cf8182be3b76603134\" style=\"text-align:center\"><svg class=\"toyplot-canvas-Canvas\" height=\"265.0px\" id=\"t3a527c3fab644a54905f95df2ca51c85\" preserveAspectRatio=\"xMidYMid meet\" style=\"background-color:transparent;border-color:#292724;border-style:none;border-width:1.0;fill:rgb(16.1%,15.3%,14.1%);fill-opacity:1.0;font-family:Helvetica;font-size:12px;opacity:1.0;stroke:rgb(16.1%,15.3%,14.1%);stroke-opacity:1.0;stroke-width:1.0\" viewBox=\"0 0 900.0 265.0\" width=\"900.0px\" xmlns=\"http://www.w3.org/2000/svg\" xmlns:toyplot=\"http://www.sandia.gov/toyplot\" xmlns:xlink=\"http://www.w3.org/1999/xlink\"><g class=\"toyplot-coordinates-Cartesian\" id=\"t7a5daef74ca549ce87ab8febf72c12b1\"><clipPath id=\"t9f0927112800466ca642289457909e2c\"><rect height=\"205.0\" width=\"840.0\" x=\"30.0\" y=\"30.0\"></rect></clipPath><g clip-path=\"url(#t9f0927112800466ca642289457909e2c)\"><g class=\"toytree-mark-Toytree\" id=\"tad548a17b8be405a9a0e647663f73a63\"><g class=\"toytree-Edges\" style=\"fill:none;stroke:rgb(14.9%,14.9%,14.9%);stroke-linecap:round;stroke-opacity:1;stroke-width:2\"><path d=\"M 606.3 50.0 L 759.3 50.0 L 759.3 60.0\" id=\"98,97\"></path><path d=\"M 606.3 50.0 L 453.3 50.0 L 453.3 60.0\" id=\"98,96\"></path><path d=\"M 759.3 60.0 L 812.1 60.0 L 812.1 69.9\" id=\"97,95\"></path><path d=\"M 759.3 60.0 L 706.5 60.0 L 706.5 69.9\" id=\"97,94\"></path><path d=\"M 453.3 60.0 L 529.1 60.0 L 529.1 69.9\" id=\"96,93\"></path><path d=\"M 453.3 60.0 L 377.5 60.0 L 377.5 69.9\" id=\"96,92\"></path><path d=\"M 812.1 69.9 L 829.9 69.9 L 829.9 79.9\" id=\"95,91\"></path><path d=\"M 812.1 69.9 L 794.3 69.9 L 794.3 79.9\" id=\"95,90\"></path><path d=\"M 706.5 69.9 L 746.8 69.9 L 746.8 79.9\" id=\"94,89\"></path><path d=\"M 706.5 69.9 L 666.2 69.9 L 666.2 79.9\" id=\"94,88\"></path><path d=\"M 529.1 69.9 L 545.0 69.9 L 545.0 79.9\" id=\"93,87\"></path><path d=\"M 529.1 69.9 L 513.3 69.9 L 513.3 79.9\" id=\"93,86\"></path><path d=\"M 377.5 69.9 L 462.0 69.9 L 462.0 79.9\" id=\"92,85\"></path><path d=\"M 377.5 69.9 L 293.0 69.9 L 293.0 79.9\" id=\"92,84\"></path><path d=\"M 794.3 79.9 L 782.4 79.9 L 782.4 89.8\" id=\"90,83\"></path><path d=\"M 746.8 79.9 L 734.9 79.9 L 734.9 89.8\" id=\"89,82\"></path><path d=\"M 666.2 79.9 L 703.2 79.9 L 703.2 89.8\" id=\"88,81\"></path><path d=\"M 666.2 79.9 L 629.1 79.9 L 629.1 89.8\" id=\"88,80\"></path><path d=\"M 462.0 79.9 L 481.7 79.9 L 481.7 89.8\" id=\"85,79\"></path><path d=\"M 462.0 79.9 L 442.3 79.9 L 442.3 89.8\" id=\"85,78\"></path><path d=\"M 293.0 79.9 L 339.2 79.9 L 339.2 89.8\" id=\"84,77\"></path><path d=\"M 293.0 79.9 L 246.7 79.9 L 246.7 89.8\" id=\"84,76\"></path><path d=\"M 629.1 89.8 L 665.7 89.8 L 665.7 99.8\" id=\"80,75\"></path><path d=\"M 629.1 89.8 L 592.5 89.8 L 592.5 99.8\" id=\"80,74\"></path><path d=\"M 442.3 89.8 L 426.8 89.8 L 426.8 99.8\" id=\"78,73\"></path><path d=\"M 246.7 89.8 L 300.6 89.8 L 300.6 99.8\" id=\"76,72\"></path><path d=\"M 246.7 89.8 L 192.9 89.8 L 192.9 99.8\" id=\"76,71\"></path><path d=\"M 665.7 99.8 L 651.8 99.8 L 651.8 109.7\" id=\"75,70\"></path><path d=\"M 592.5 99.8 L 608.3 99.8 L 608.3 109.7\" id=\"74,69\"></path><path d=\"M 592.5 99.8 L 576.6 99.8 L 576.6 109.7\" id=\"74,68\"></path><path d=\"M 426.8 99.8 L 411.4 99.8 L 411.4 109.7\" id=\"73,67\"></path><path d=\"M 300.6 99.8 L 285.8 99.8 L 285.8 109.7\" id=\"72,66\"></path><path d=\"M 192.9 99.8 L 224.5 99.8 L 224.5 109.7\" id=\"71,65\"></path><path d=\"M 192.9 99.8 L 161.3 99.8 L 161.3 109.7\" id=\"71,64\"></path><path d=\"M 651.8 109.7 L 639.9 109.7 L 639.9 119.7\" id=\"70,63\"></path><path d=\"M 411.4 109.7 L 396.6 109.7 L 396.6 119.7\" id=\"67,62\"></path><path d=\"M 285.8 109.7 L 271.9 109.7 L 271.9 119.7\" id=\"66,61\"></path><path d=\"M 224.5 109.7 L 212.6 109.7 L 212.6 119.7\" id=\"65,60\"></path><path d=\"M 161.3 109.7 L 180.9 109.7 L 180.9 119.7\" id=\"64,59\"></path><path d=\"M 161.3 109.7 L 141.6 109.7 L 141.6 119.7\" id=\"64,58\"></path><path d=\"M 396.6 119.7 L 382.7 119.7 L 382.7 129.6\" id=\"62,57\"></path><path d=\"M 271.9 119.7 L 260.1 119.7 L 260.1 129.6\" id=\"61,56\"></path><path d=\"M 141.6 119.7 L 126.0 119.7 L 126.0 129.6\" id=\"58,55\"></path><path d=\"M 382.7 129.6 L 370.9 129.6 L 370.9 139.6\" id=\"57,54\"></path><path d=\"M 126.0 129.6 L 110.7 129.6 L 110.7 139.6\" id=\"55,53\"></path><path d=\"M 110.7 139.6 L 95.8 139.6 L 95.8 149.6\" id=\"53,52\"></path><path d=\"M 95.8 149.6 L 82.0 149.6 L 82.0 159.5\" id=\"52,51\"></path><path d=\"M 82.0 159.5 L 70.1 159.5 L 70.1 169.5\" id=\"51,50\"></path><path d=\"M 829.9 79.9 L 837.8 79.9 L 837.8 179.4\" id=\"91,49\"></path><path d=\"M 829.9 79.9 L 822.0 79.9 L 822.0 179.4\" id=\"91,48\"></path><path d=\"M 794.3 79.9 L 806.1 79.9 L 806.1 179.4\" id=\"90,47\"></path><path d=\"M 782.4 89.8 L 790.3 89.8 L 790.3 179.4\" id=\"83,46\"></path><path d=\"M 782.4 89.8 L 774.5 89.8 L 774.5 179.4\" id=\"83,45\"></path><path d=\"M 746.8 79.9 L 758.6 79.9 L 758.6 179.4\" id=\"89,44\"></path><path d=\"M 734.9 89.8 L 742.8 89.8 L 742.8 179.4\" id=\"82,43\"></path><path d=\"M 734.9 89.8 L 727.0 89.8 L 727.0 179.4\" id=\"82,42\"></path><path d=\"M 703.2 89.8 L 711.2 89.8 L 711.2 179.4\" id=\"81,41\"></path><path d=\"M 703.2 89.8 L 695.3 89.8 L 695.3 179.4\" id=\"81,40\"></path><path d=\"M 665.7 99.8 L 679.5 99.8 L 679.5 179.4\" id=\"75,39\"></path><path d=\"M 651.8 109.7 L 663.7 109.7 L 663.7 179.4\" id=\"70,38\"></path><path d=\"M 639.9 119.7 L 647.8 119.7 L 647.8 179.4\" id=\"63,37\"></path><path d=\"M 639.9 119.7 L 632.0 119.7 L 632.0 179.4\" id=\"63,36\"></path><path d=\"M 608.3 109.7 L 616.2 109.7 L 616.2 179.4\" id=\"69,35\"></path><path d=\"M 608.3 109.7 L 600.4 109.7 L 600.4 179.4\" id=\"69,34\"></path><path d=\"M 576.6 109.7 L 584.5 109.7 L 584.5 179.4\" id=\"68,33\"></path><path d=\"M 576.6 109.7 L 568.7 109.7 L 568.7 179.4\" id=\"68,32\"></path><path d=\"M 545.0 79.9 L 552.9 79.9 L 552.9 179.4\" id=\"87,31\"></path><path d=\"M 545.0 79.9 L 537.1 79.9 L 537.1 179.4\" id=\"87,30\"></path><path d=\"M 513.3 79.9 L 521.2 79.9 L 521.2 179.4\" id=\"86,29\"></path><path d=\"M 513.3 79.9 L 505.4 79.9 L 505.4 179.4\" id=\"86,28\"></path><path d=\"M 481.7 89.8 L 489.6 89.8 L 489.6 179.4\" id=\"79,27\"></path><path d=\"M 481.7 89.8 L 473.7 89.8 L 473.7 179.4\" id=\"79,26\"></path><path d=\"M 442.3 89.8 L 457.9 89.8 L 457.9 179.4\" id=\"78,25\"></path><path d=\"M 426.8 99.8 L 442.1 99.8 L 442.1 179.4\" id=\"73,24\"></path><path d=\"M 411.4 109.7 L 426.3 109.7 L 426.3 179.4\" id=\"67,23\"></path><path d=\"M 396.6 119.7 L 410.4 119.7 L 410.4 179.4\" id=\"62,22\"></path><path d=\"M 382.7 129.6 L 394.6 129.6 L 394.6 179.4\" id=\"57,21\"></path><path d=\"M 370.9 139.6 L 378.8 139.6 L 378.8 179.4\" id=\"54,20\"></path><path d=\"M 370.9 139.6 L 362.9 139.6 L 362.9 179.4\" id=\"54,19\"></path><path d=\"M 339.2 89.8 L 347.1 89.8 L 347.1 179.4\" id=\"77,18\"></path><path d=\"M 339.2 89.8 L 331.3 89.8 L 331.3 179.4\" id=\"77,17\"></path><path d=\"M 300.6 99.8 L 315.5 99.8 L 315.5 179.4\" id=\"72,16\"></path><path d=\"M 285.8 109.7 L 299.6 109.7 L 299.6 179.4\" id=\"66,15\"></path><path d=\"M 271.9 119.7 L 283.8 119.7 L 283.8 179.4\" id=\"61,14\"></path><path d=\"M 260.1 129.6 L 268.0 129.6 L 268.0 179.4\" id=\"56,13\"></path><path d=\"M 260.1 129.6 L 252.2 129.6 L 252.2 179.4\" id=\"56,12\"></path><path d=\"M 224.5 109.7 L 236.3 109.7 L 236.3 179.4\" id=\"65,11\"></path><path d=\"M 212.6 119.7 L 220.5 119.7 L 220.5 179.4\" id=\"60,10\"></path><path d=\"M 212.6 119.7 L 204.7 119.7 L 204.7 179.4\" id=\"60,9\"></path><path d=\"M 180.9 119.7 L 188.8 119.7 L 188.8 179.4\" id=\"59,8\"></path><path d=\"M 180.9 119.7 L 173.0 119.7 L 173.0 179.4\" id=\"59,7\"></path><path d=\"M 141.6 119.7 L 157.2 119.7 L 157.2 179.4\" id=\"58,6\"></path><path d=\"M 126.0 129.6 L 141.4 129.6 L 141.4 179.4\" id=\"55,5\"></path><path d=\"M 110.7 139.6 L 125.5 139.6 L 125.5 179.4\" id=\"53,4\"></path><path d=\"M 95.8 149.6 L 109.7 149.6 L 109.7 179.4\" id=\"52,3\"></path><path d=\"M 82.0 159.5 L 93.9 159.5 L 93.9 179.4\" id=\"51,2\"></path><path d=\"M 70.1 169.5 L 78.0 169.5 L 78.0 179.4\" id=\"50,1\"></path><path d=\"M 70.1 169.5 L 62.2 169.5 L 62.2 179.4\" id=\"50,0\"></path></g><g class=\"toytree-Nodes\" style=\"fill:rgb(40%,76.1%,64.7%);fill-opacity:1.0;stroke:None;stroke-width:1\"><g id=\"node-0\" transform=\"translate(62.215,179.430)\"><circle r=\"0.0\"></circle></g><g id=\"node-1\" transform=\"translate(78.043,179.430)\"><circle r=\"0.0\"></circle></g><g id=\"node-2\" transform=\"translate(93.871,179.430)\"><circle r=\"0.0\"></circle></g><g id=\"node-3\" transform=\"translate(109.699,179.430)\"><circle r=\"0.0\"></circle></g><g id=\"node-4\" transform=\"translate(125.527,179.430)\"><circle r=\"0.0\"></circle></g><g id=\"node-5\" transform=\"translate(141.355,179.430)\"><circle r=\"0.0\"></circle></g><g id=\"node-6\" transform=\"translate(157.183,179.430)\"><circle r=\"0.0\"></circle></g><g id=\"node-7\" transform=\"translate(173.011,179.430)\"><circle r=\"0.0\"></circle></g><g id=\"node-8\" transform=\"translate(188.839,179.430)\"><circle r=\"0.0\"></circle></g><g id=\"node-9\" transform=\"translate(204.667,179.430)\"><circle r=\"0.0\"></circle></g><g id=\"node-10\" transform=\"translate(220.495,179.430)\"><circle r=\"0.0\"></circle></g><g id=\"node-11\" transform=\"translate(236.323,179.430)\"><circle r=\"0.0\"></circle></g><g id=\"node-12\" transform=\"translate(252.151,179.430)\"><circle r=\"0.0\"></circle></g><g id=\"node-13\" transform=\"translate(267.979,179.430)\"><circle r=\"0.0\"></circle></g><g id=\"node-14\" transform=\"translate(283.807,179.430)\"><circle r=\"0.0\"></circle></g><g id=\"node-15\" transform=\"translate(299.634,179.430)\"><circle r=\"0.0\"></circle></g><g id=\"node-16\" transform=\"translate(315.462,179.430)\"><circle r=\"0.0\"></circle></g><g id=\"node-17\" transform=\"translate(331.290,179.430)\"><circle r=\"0.0\"></circle></g><g id=\"node-18\" transform=\"translate(347.118,179.430)\"><circle r=\"0.0\"></circle></g><g id=\"node-19\" transform=\"translate(362.946,179.430)\"><circle r=\"0.0\"></circle></g><g id=\"node-20\" transform=\"translate(378.774,179.430)\"><circle r=\"0.0\"></circle></g><g id=\"node-21\" transform=\"translate(394.602,179.430)\"><circle r=\"0.0\"></circle></g><g id=\"node-22\" transform=\"translate(410.430,179.430)\"><circle r=\"0.0\"></circle></g><g id=\"node-23\" transform=\"translate(426.258,179.430)\"><circle r=\"0.0\"></circle></g><g id=\"node-24\" transform=\"translate(442.086,179.430)\"><circle r=\"0.0\"></circle></g><g id=\"node-25\" transform=\"translate(457.914,179.430)\"><circle r=\"0.0\"></circle></g><g id=\"node-26\" transform=\"translate(473.742,179.430)\"><circle r=\"0.0\"></circle></g><g id=\"node-27\" transform=\"translate(489.570,179.430)\"><circle r=\"0.0\"></circle></g><g id=\"node-28\" transform=\"translate(505.398,179.430)\"><circle r=\"0.0\"></circle></g><g id=\"node-29\" transform=\"translate(521.226,179.430)\"><circle r=\"0.0\"></circle></g><g id=\"node-30\" transform=\"translate(537.054,179.430)\"><circle r=\"0.0\"></circle></g><g id=\"node-31\" transform=\"translate(552.882,179.430)\"><circle r=\"0.0\"></circle></g><g id=\"node-32\" transform=\"translate(568.710,179.430)\"><circle r=\"0.0\"></circle></g><g id=\"node-33\" transform=\"translate(584.538,179.430)\"><circle r=\"0.0\"></circle></g><g id=\"node-34\" transform=\"translate(600.366,179.430)\"><circle r=\"0.0\"></circle></g><g id=\"node-35\" transform=\"translate(616.193,179.430)\"><circle r=\"0.0\"></circle></g><g id=\"node-36\" transform=\"translate(632.021,179.430)\"><circle r=\"0.0\"></circle></g><g id=\"node-37\" transform=\"translate(647.849,179.430)\"><circle r=\"0.0\"></circle></g><g id=\"node-38\" transform=\"translate(663.677,179.430)\"><circle r=\"0.0\"></circle></g><g id=\"node-39\" transform=\"translate(679.505,179.430)\"><circle r=\"0.0\"></circle></g><g id=\"node-40\" transform=\"translate(695.333,179.430)\"><circle r=\"0.0\"></circle></g><g id=\"node-41\" transform=\"translate(711.161,179.430)\"><circle r=\"0.0\"></circle></g><g id=\"node-42\" transform=\"translate(726.989,179.430)\"><circle r=\"0.0\"></circle></g><g id=\"node-43\" transform=\"translate(742.817,179.430)\"><circle r=\"0.0\"></circle></g><g id=\"node-44\" transform=\"translate(758.645,179.430)\"><circle r=\"0.0\"></circle></g><g id=\"node-45\" transform=\"translate(774.473,179.430)\"><circle r=\"0.0\"></circle></g><g id=\"node-46\" transform=\"translate(790.301,179.430)\"><circle r=\"0.0\"></circle></g><g id=\"node-47\" transform=\"translate(806.129,179.430)\"><circle r=\"0.0\"></circle></g><g id=\"node-48\" transform=\"translate(821.957,179.430)\"><circle r=\"0.0\"></circle></g><g id=\"node-49\" transform=\"translate(837.785,179.430)\"><circle r=\"0.0\"></circle></g><g id=\"node-50\" transform=\"translate(70.129,169.474)\"><circle r=\"6.0\"></circle></g><g id=\"node-51\" transform=\"translate(82.000,159.518)\"><circle r=\"6.0\"></circle></g><g id=\"node-52\" transform=\"translate(95.850,149.562)\"><circle r=\"6.0\"></circle></g><g id=\"node-53\" transform=\"translate(110.688,139.605)\"><circle r=\"6.0\"></circle></g><g id=\"node-54\" transform=\"translate(370.860,139.605)\"><circle r=\"6.0\"></circle></g><g id=\"node-55\" transform=\"translate(126.022,129.649)\"><circle r=\"6.0\"></circle></g><g id=\"node-56\" transform=\"translate(260.065,129.649)\"><circle r=\"6.0\"></circle></g><g id=\"node-57\" transform=\"translate(382.731,129.649)\"><circle r=\"6.0\"></circle></g><g id=\"node-58\" transform=\"translate(141.602,119.693)\"><circle r=\"6.0\"></circle></g><g id=\"node-59\" transform=\"translate(180.925,119.693)\"><circle r=\"6.0\"></circle></g><g id=\"node-60\" transform=\"translate(212.581,119.693)\"><circle r=\"6.0\"></circle></g><g id=\"node-61\" transform=\"translate(271.936,119.693)\"><circle r=\"6.0\"></circle></g><g id=\"node-62\" transform=\"translate(396.581,119.693)\"><circle r=\"6.0\"></circle></g><g id=\"node-63\" transform=\"translate(639.935,119.693)\"><circle r=\"6.0\"></circle></g><g id=\"node-64\" transform=\"translate(161.264,109.737)\"><circle r=\"6.0\"></circle></g><g id=\"node-65\" transform=\"translate(224.452,109.737)\"><circle r=\"6.0\"></circle></g><g id=\"node-66\" transform=\"translate(285.785,109.737)\"><circle r=\"6.0\"></circle></g><g id=\"node-67\" transform=\"translate(411.419,109.737)\"><circle r=\"6.0\"></circle></g><g id=\"node-68\" transform=\"translate(576.624,109.737)\"><circle r=\"6.0\"></circle></g><g id=\"node-69\" transform=\"translate(608.280,109.737)\"><circle r=\"6.0\"></circle></g><g id=\"node-70\" transform=\"translate(651.806,109.737)\"><circle r=\"6.0\"></circle></g><g id=\"node-71\" transform=\"translate(192.858,99.781)\"><circle r=\"6.0\"></circle></g><g id=\"node-72\" transform=\"translate(300.624,99.781)\"><circle r=\"6.0\"></circle></g><g id=\"node-73\" transform=\"translate(426.753,99.781)\"><circle r=\"6.0\"></circle></g><g id=\"node-74\" transform=\"translate(592.452,99.781)\"><circle r=\"6.0\"></circle></g><g id=\"node-75\" transform=\"translate(665.656,99.781)\"><circle r=\"6.0\"></circle></g><g id=\"node-76\" transform=\"translate(246.741,89.825)\"><circle r=\"6.0\"></circle></g><g id=\"node-77\" transform=\"translate(339.204,89.825)\"><circle r=\"6.0\"></circle></g><g id=\"node-78\" transform=\"translate(442.333,89.825)\"><circle r=\"6.0\"></circle></g><g id=\"node-79\" transform=\"translate(481.656,89.825)\"><circle r=\"6.0\"></circle></g><g id=\"node-80\" transform=\"translate(629.054,89.825)\"><circle r=\"6.0\"></circle></g><g id=\"node-81\" transform=\"translate(703.247,89.825)\"><circle r=\"6.0\"></circle></g><g id=\"node-82\" transform=\"translate(734.903,89.825)\"><circle r=\"6.0\"></circle></g><g id=\"node-83\" transform=\"translate(782.387,89.825)\"><circle r=\"6.0\"></circle></g><g id=\"node-84\" transform=\"translate(292.973,79.868)\"><circle r=\"6.0\"></circle></g><g id=\"node-85\" transform=\"translate(461.995,79.868)\"><circle r=\"6.0\"></circle></g><g id=\"node-86\" transform=\"translate(513.312,79.868)\"><circle r=\"6.0\"></circle></g><g id=\"node-87\" transform=\"translate(544.968,79.868)\"><circle r=\"6.0\"></circle></g><g id=\"node-88\" transform=\"translate(666.150,79.868)\"><circle r=\"6.0\"></circle></g><g id=\"node-89\" transform=\"translate(746.774,79.868)\"><circle r=\"6.0\"></circle></g><g id=\"node-90\" transform=\"translate(794.258,79.868)\"><circle r=\"6.0\"></circle></g><g id=\"node-91\" transform=\"translate(829.871,79.868)\"><circle r=\"6.0\"></circle></g><g id=\"node-92\" transform=\"translate(377.484,69.912)\"><circle r=\"6.0\"></circle></g><g id=\"node-93\" transform=\"translate(529.140,69.912)\"><circle r=\"6.0\"></circle></g><g id=\"node-94\" transform=\"translate(706.462,69.912)\"><circle r=\"6.0\"></circle></g><g id=\"node-95\" transform=\"translate(812.064,69.912)\"><circle r=\"6.0\"></circle></g><g id=\"node-96\" transform=\"translate(453.312,59.956)\"><circle r=\"6.0\"></circle></g><g id=\"node-97\" transform=\"translate(759.263,59.956)\"><circle r=\"6.0\"></circle></g><g id=\"node-98\" transform=\"translate(606.287,50.000)\"><circle r=\"0.0\"></circle></g></g><g class=\"toytree-NodeLabels\" style=\"fill:rgb(14.9%,14.9%,14.9%);fill-opacity:1.0;font-size:9px;stroke:none\"><g transform=\"translate(65.13,171.77)\"><text>50</text></g><g transform=\"translate(77.00,161.82)\"><text>51</text></g><g transform=\"translate(90.85,151.86)\"><text>52</text></g><g transform=\"translate(105.68,141.90)\"><text>53</text></g><g transform=\"translate(365.86,141.90)\"><text>54</text></g><g transform=\"translate(121.02,131.95)\"><text>55</text></g><g transform=\"translate(255.06,131.95)\"><text>56</text></g><g transform=\"translate(377.73,131.95)\"><text>57</text></g><g transform=\"translate(136.60,121.99)\"><text>58</text></g><g transform=\"translate(175.92,121.99)\"><text>59</text></g><g transform=\"translate(207.58,121.99)\"><text>60</text></g><g transform=\"translate(266.93,121.99)\"><text>61</text></g><g transform=\"translate(391.58,121.99)\"><text>62</text></g><g transform=\"translate(634.93,121.99)\"><text>63</text></g><g transform=\"translate(156.26,112.04)\"><text>64</text></g><g transform=\"translate(219.45,112.04)\"><text>65</text></g><g transform=\"translate(280.78,112.04)\"><text>66</text></g><g transform=\"translate(406.42,112.04)\"><text>67</text></g><g transform=\"translate(571.62,112.04)\"><text>68</text></g><g transform=\"translate(603.28,112.04)\"><text>69</text></g><g transform=\"translate(646.80,112.04)\"><text>70</text></g><g transform=\"translate(187.85,102.08)\"><text>71</text></g><g transform=\"translate(295.62,102.08)\"><text>72</text></g><g transform=\"translate(421.75,102.08)\"><text>73</text></g><g transform=\"translate(587.45,102.08)\"><text>74</text></g><g transform=\"translate(660.65,102.08)\"><text>75</text></g><g transform=\"translate(241.74,92.12)\"><text>76</text></g><g transform=\"translate(334.20,92.12)\"><text>77</text></g><g transform=\"translate(437.33,92.12)\"><text>78</text></g><g transform=\"translate(476.65,92.12)\"><text>79</text></g><g transform=\"translate(624.05,92.12)\"><text>80</text></g><g transform=\"translate(698.24,92.12)\"><text>81</text></g><g transform=\"translate(729.90,92.12)\"><text>82</text></g><g transform=\"translate(777.38,92.12)\"><text>83</text></g><g transform=\"translate(287.97,82.17)\"><text>84</text></g><g transform=\"translate(456.99,82.17)\"><text>85</text></g><g transform=\"translate(508.31,82.17)\"><text>86</text></g><g transform=\"translate(539.96,82.17)\"><text>87</text></g><g transform=\"translate(661.15,82.17)\"><text>88</text></g><g transform=\"translate(741.77,82.17)\"><text>89</text></g><g transform=\"translate(789.25,82.17)\"><text>90</text></g><g transform=\"translate(824.87,82.17)\"><text>91</text></g><g transform=\"translate(372.48,72.21)\"><text>92</text></g><g transform=\"translate(524.14,72.21)\"><text>93</text></g><g transform=\"translate(701.46,72.21)\"><text>94</text></g><g transform=\"translate(807.06,72.21)\"><text>95</text></g><g transform=\"translate(448.31,62.26)\"><text>96</text></g><g transform=\"translate(754.26,62.26)\"><text>97</text></g></g><g class=\"toytree-TipLabels\" style=\"fill:rgb(14.9%,14.9%,14.9%);fill-opacity:1.0;font-family:helvetica;font-size:11px;font-weight:normal;stroke:none;white-space:pre\"><g transform=\"translate(62.22,179.43)rotate(-90)\"><text style=\"\" x=\"-24.78\" y=\"2.81\">r0</text></g><g transform=\"translate(78.04,179.43)rotate(-90)\"><text style=\"\" x=\"-24.78\" y=\"2.81\">r1</text></g><g transform=\"translate(93.87,179.43)rotate(-90)\"><text style=\"\" x=\"-24.78\" y=\"2.81\">r2</text></g><g transform=\"translate(109.70,179.43)rotate(-90)\"><text style=\"\" x=\"-24.78\" y=\"2.81\">r3</text></g><g transform=\"translate(125.53,179.43)rotate(-90)\"><text style=\"\" x=\"-24.78\" y=\"2.81\">r4</text></g><g transform=\"translate(141.35,179.43)rotate(-90)\"><text style=\"\" x=\"-24.78\" y=\"2.81\">r5</text></g><g transform=\"translate(157.18,179.43)rotate(-90)\"><text style=\"\" x=\"-24.78\" y=\"2.81\">r6</text></g><g transform=\"translate(173.01,179.43)rotate(-90)\"><text style=\"\" x=\"-24.78\" y=\"2.81\">r7</text></g><g transform=\"translate(188.84,179.43)rotate(-90)\"><text style=\"\" x=\"-24.78\" y=\"2.81\">r8</text></g><g transform=\"translate(204.67,179.43)rotate(-90)\"><text style=\"\" x=\"-24.78\" y=\"2.81\">r9</text></g><g transform=\"translate(220.49,179.43)rotate(-90)\"><text style=\"\" x=\"-30.90\" y=\"2.81\">r10</text></g><g transform=\"translate(236.32,179.43)rotate(-90)\"><text style=\"\" x=\"-30.90\" y=\"2.81\">r11</text></g><g transform=\"translate(252.15,179.43)rotate(-90)\"><text style=\"\" x=\"-30.90\" y=\"2.81\">r12</text></g><g transform=\"translate(267.98,179.43)rotate(-90)\"><text style=\"\" x=\"-30.90\" y=\"2.81\">r13</text></g><g transform=\"translate(283.81,179.43)rotate(-90)\"><text style=\"\" x=\"-30.90\" y=\"2.81\">r14</text></g><g transform=\"translate(299.63,179.43)rotate(-90)\"><text style=\"\" x=\"-30.90\" y=\"2.81\">r15</text></g><g transform=\"translate(315.46,179.43)rotate(-90)\"><text style=\"\" x=\"-30.90\" y=\"2.81\">r16</text></g><g transform=\"translate(331.29,179.43)rotate(-90)\"><text style=\"\" x=\"-30.90\" y=\"2.81\">r17</text></g><g transform=\"translate(347.12,179.43)rotate(-90)\"><text style=\"\" x=\"-30.90\" y=\"2.81\">r18</text></g><g transform=\"translate(362.95,179.43)rotate(-90)\"><text style=\"\" x=\"-30.90\" y=\"2.81\">r19</text></g><g transform=\"translate(378.77,179.43)rotate(-90)\"><text style=\"\" x=\"-30.90\" y=\"2.81\">r20</text></g><g transform=\"translate(394.60,179.43)rotate(-90)\"><text style=\"\" x=\"-30.90\" y=\"2.81\">r21</text></g><g transform=\"translate(410.43,179.43)rotate(-90)\"><text style=\"\" x=\"-30.90\" y=\"2.81\">r22</text></g><g transform=\"translate(426.26,179.43)rotate(-90)\"><text style=\"\" x=\"-30.90\" y=\"2.81\">r23</text></g><g transform=\"translate(442.09,179.43)rotate(-90)\"><text style=\"\" x=\"-30.90\" y=\"2.81\">r24</text></g><g transform=\"translate(457.91,179.43)rotate(-90)\"><text style=\"\" x=\"-30.90\" y=\"2.81\">r25</text></g><g transform=\"translate(473.74,179.43)rotate(-90)\"><text style=\"\" x=\"-30.90\" y=\"2.81\">r26</text></g><g transform=\"translate(489.57,179.43)rotate(-90)\"><text style=\"\" x=\"-30.90\" y=\"2.81\">r27</text></g><g transform=\"translate(505.40,179.43)rotate(-90)\"><text style=\"\" x=\"-30.90\" y=\"2.81\">r28</text></g><g transform=\"translate(521.23,179.43)rotate(-90)\"><text style=\"\" x=\"-30.90\" y=\"2.81\">r29</text></g><g transform=\"translate(537.05,179.43)rotate(-90)\"><text style=\"\" x=\"-30.90\" y=\"2.81\">r30</text></g><g transform=\"translate(552.88,179.43)rotate(-90)\"><text style=\"\" x=\"-30.90\" y=\"2.81\">r31</text></g><g transform=\"translate(568.71,179.43)rotate(-90)\"><text style=\"\" x=\"-30.90\" y=\"2.81\">r32</text></g><g transform=\"translate(584.54,179.43)rotate(-90)\"><text style=\"\" x=\"-30.90\" y=\"2.81\">r33</text></g><g transform=\"translate(600.37,179.43)rotate(-90)\"><text style=\"\" x=\"-30.90\" y=\"2.81\">r34</text></g><g transform=\"translate(616.19,179.43)rotate(-90)\"><text style=\"\" x=\"-30.90\" y=\"2.81\">r35</text></g><g transform=\"translate(632.02,179.43)rotate(-90)\"><text style=\"\" x=\"-30.90\" y=\"2.81\">r36</text></g><g transform=\"translate(647.85,179.43)rotate(-90)\"><text style=\"\" x=\"-30.90\" y=\"2.81\">r37</text></g><g transform=\"translate(663.68,179.43)rotate(-90)\"><text style=\"\" x=\"-30.90\" y=\"2.81\">r38</text></g><g transform=\"translate(679.51,179.43)rotate(-90)\"><text style=\"\" x=\"-30.90\" y=\"2.81\">r39</text></g><g transform=\"translate(695.33,179.43)rotate(-90)\"><text style=\"\" x=\"-30.90\" y=\"2.81\">r40</text></g><g transform=\"translate(711.16,179.43)rotate(-90)\"><text style=\"\" x=\"-30.90\" y=\"2.81\">r41</text></g><g transform=\"translate(726.99,179.43)rotate(-90)\"><text style=\"\" x=\"-30.90\" y=\"2.81\">r42</text></g><g transform=\"translate(742.82,179.43)rotate(-90)\"><text style=\"\" x=\"-30.90\" y=\"2.81\">r43</text></g><g transform=\"translate(758.65,179.43)rotate(-90)\"><text style=\"\" x=\"-30.90\" y=\"2.81\">r44</text></g><g transform=\"translate(774.47,179.43)rotate(-90)\"><text style=\"\" x=\"-30.90\" y=\"2.81\">r45</text></g><g transform=\"translate(790.30,179.43)rotate(-90)\"><text style=\"\" x=\"-30.90\" y=\"2.81\">r46</text></g><g transform=\"translate(806.13,179.43)rotate(-90)\"><text style=\"\" x=\"-30.90\" y=\"2.81\">r47</text></g><g transform=\"translate(821.96,179.43)rotate(-90)\"><text style=\"\" x=\"-30.90\" y=\"2.81\">r48</text></g><g transform=\"translate(837.78,179.43)rotate(-90)\"><text style=\"\" x=\"-30.90\" y=\"2.81\">r49</text></g></g></g></g></g></svg><div class=\"toyplot-behavior\"><script>(function()\n",
       "{\n",
       "var modules={};\n",
       "})();</script></div></div>"
      ]
     },
     "metadata": {},
     "output_type": "display_data"
    }
   ],
   "source": [
    "truetree = toytree.tree(tree)\n",
    "toytree.tree(truetree).draw(layout='d', use_edge_lengths=True, node_labels=\"idx\", node_sizes=12);"
   ]
  },
  {
   "cell_type": "code",
   "execution_count": 8,
   "metadata": {},
   "outputs": [
    {
     "name": "stdout",
     "output_type": "stream",
     "text": [
      "[ipa.bpp] found 4 existing result files\n",
      "[ipa.bpp] summarizing algorithm '00' results\n"
     ]
    }
   ],
   "source": [
    "# Load bpp results from run name/location and set the priors that were used for analysis.\n",
    "bpp_real = ipa.bpp(\n",
    "    name=\"bpp_real_small\", \n",
    "    workdir=\"/home/henry/phylo-timescale/bpp_2\", \n",
    "    guidetree=truetree.drop_tips([i for i in truetree.get_tip_labels() if int(i[1:]) >5]),\n",
    "    thetaprior=thetaprior,\n",
    "    tauprior=tauprior,\n",
    ")\n",
    "\n",
    "res01, mcmc01 = bpp_real.summarize_results(\"00\", individual_results=True)"
   ]
  },
  {
   "cell_type": "code",
   "execution_count": 10,
   "metadata": {},
   "outputs": [
    {
     "name": "stdout",
     "output_type": "stream",
     "text": [
      "[ipa.bpp] found 4 existing result files\n",
      "[ipa.bpp] summarizing algorithm '00' results\n"
     ]
    }
   ],
   "source": [
    "bpp_ne = ipa.bpp(\n",
    "    name=\"bpp_ne_small\", \n",
    "    workdir=\"/home/henry/phylo-timescale/bpp_2\", \n",
    "    guidetree=truetree.drop_tips([i for i in truetree.get_tip_labels() if int(i[1:]) >5]),\n",
    "    thetaprior=thetaprior,\n",
    "    tauprior=tauprior,\n",
    ")\n",
    "\n",
    "res02, mcmc02 = bpp_ne.summarize_results(\"00\", individual_results=True)"
   ]
  },
  {
   "cell_type": "code",
   "execution_count": 11,
   "metadata": {},
   "outputs": [
    {
     "name": "stdout",
     "output_type": "stream",
     "text": [
      "[ipa.bpp] found 4 existing result files\n",
      "[ipa.bpp] summarizing algorithm '00' results\n"
     ]
    }
   ],
   "source": [
    "bpp_g = ipa.bpp(\n",
    "    name=\"bpp_g_small\", \n",
    "    workdir=\"/home/henry/phylo-timescale/bpp_2\", \n",
    "    guidetree=truetree.drop_tips([i for i in truetree.get_tip_labels() if int(i[1:]) >5]),\n",
    "    thetaprior=thetaprior,\n",
    "    tauprior=tauprior,\n",
    ")\n",
    "\n",
    "res03, mcmc03 = bpp_g.summarize_results(\"00\", individual_results=True)"
   ]
  },
  {
   "cell_type": "code",
   "execution_count": 12,
   "metadata": {},
   "outputs": [
    {
     "name": "stdout",
     "output_type": "stream",
     "text": [
      "[ipa.bpp] found 4 existing result files\n",
      "[ipa.bpp] summarizing algorithm '00' results\n"
     ]
    }
   ],
   "source": [
    "bpp_both = ipa.bpp(\n",
    "    name=\"bpp_both_small\", \n",
    "    workdir=\"/home/henry/phylo-timescale/bpp_2\", \n",
    "    guidetree=truetree.drop_tips([i for i in truetree.get_tip_labels() if int(i[1:]) >5]),\n",
    "    thetaprior=thetaprior,\n",
    "    tauprior=tauprior,\n",
    ")\n",
    "\n",
    "res04, mcmc04 = bpp_both.summarize_results(\"00\", individual_results=True)"
   ]
  },
  {
   "cell_type": "code",
   "execution_count": 13,
   "metadata": {},
   "outputs": [
    {
     "name": "stdout",
     "output_type": "stream",
     "text": [
      "[ipa.bpp] found 4 existing result files\n",
      "[ipa.bpp] summarizing algorithm '00' results\n"
     ]
    }
   ],
   "source": [
    "bpp_chp = ipa.bpp(\n",
    "    name=\"bpp_chp_small\", \n",
    "    workdir=\"/home/henry/phylo-timescale/bpp_2\", \n",
    "    guidetree=truetree.drop_tips([i for i in truetree.get_tip_labels() if int(i[1:]) >5]),\n",
    "    thetaprior=thetaprior,\n",
    "    tauprior=tauprior,\n",
    ")\n",
    "\n",
    "res05, mcmc05 = bpp_chp.summarize_results(\"00\", individual_results=True)"
   ]
  }
 ],
 "metadata": {
  "kernelspec": {
   "display_name": "Python 3",
   "language": "python",
   "name": "python3"
  },
  "language_info": {
   "codemirror_mode": {
    "name": "ipython",
    "version": 3
   },
   "file_extension": ".py",
   "mimetype": "text/x-python",
   "name": "python",
   "nbconvert_exporter": "python",
   "pygments_lexer": "ipython3",
   "version": "3.7.9"
  }
 },
 "nbformat": 4,
 "nbformat_minor": 4
}
