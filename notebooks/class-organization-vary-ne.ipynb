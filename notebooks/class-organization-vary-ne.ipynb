{
 "cells": [
  {
   "cell_type": "code",
   "execution_count": 19,
   "metadata": {},
   "outputs": [],
   "source": [
    "import toytree\n",
    "import pandas as pd\n",
    "import numpy as np\n",
    "import ipcoal\n",
    "import ipyrad.analysis as ipa\n",
    "import tempfile\n",
    "import subprocess\n",
    "import matplotlib.pyplot as plt"
   ]
  },
  {
   "cell_type": "code",
   "execution_count": 3,
   "metadata": {},
   "outputs": [
    {
     "data": {
      "text/html": [
       "<div class=\"toyplot\" id=\"ta18b3ed2f4c84364911bec213b3ea608\" style=\"text-align:center\"><svg class=\"toyplot-canvas-Canvas\" height=\"275.0px\" id=\"t951eafcabeed4fd685bc6f20fbf152c6\" preserveAspectRatio=\"xMidYMid meet\" style=\"background-color:transparent;border-color:#292724;border-style:none;border-width:1.0;fill:rgb(16.1%,15.3%,14.1%);fill-opacity:1.0;font-family:Helvetica;font-size:12px;opacity:1.0;stroke:rgb(16.1%,15.3%,14.1%);stroke-opacity:1.0;stroke-width:1.0\" viewBox=\"0 0 265.0 275.0\" width=\"265.0px\" xmlns=\"http://www.w3.org/2000/svg\" xmlns:toyplot=\"http://www.sandia.gov/toyplot\" xmlns:xlink=\"http://www.w3.org/1999/xlink\"><g class=\"toyplot-coordinates-Cartesian\" id=\"t789b5d6bbaac466b941e127d7f462eb7\"><clipPath id=\"t6fcce1b2db7c4a6b9b08b27c417a2624\"><rect height=\"215.0\" width=\"205.0\" x=\"30.0\" y=\"30.0\"></rect></clipPath><g clip-path=\"url(#t6fcce1b2db7c4a6b9b08b27c417a2624)\"><g class=\"toytree-mark-Toytree\" id=\"t7817cf539aac4c03a9406e4bf105f2e0\"><g class=\"toytree-Edges\" style=\"fill:none;stroke:rgb(14.9%,14.9%,14.9%);stroke-linecap:round;stroke-opacity:1;stroke-width:2\"><path d=\"M 50.0 114.2 L 50.0 74.1 L 73.2 74.1\" id=\"22,21\"></path><path d=\"M 50.0 114.2 L 50.0 154.4 L 73.2 154.4\" id=\"22,20\"></path><path d=\"M 73.2 74.1 L 73.2 87.1 L 96.5 87.1\" id=\"21,19\"></path><path d=\"M 73.2 154.4 L 73.2 137.5 L 96.5 137.5\" id=\"20,18\"></path><path d=\"M 73.2 154.4 L 73.2 171.4 L 96.5 171.4\" id=\"20,17\"></path><path d=\"M 96.5 87.1 L 96.5 99.3 L 119.7 99.3\" id=\"19,16\"></path><path d=\"M 96.5 171.4 L 96.5 184.4 L 119.7 184.4\" id=\"17,15\"></path><path d=\"M 119.7 99.3 L 119.7 109.7 L 142.9 109.7\" id=\"16,14\"></path><path d=\"M 119.7 184.4 L 119.7 196.6 L 142.9 196.6\" id=\"15,13\"></path><path d=\"M 142.9 196.6 L 142.9 207.0 L 166.1 207.0\" id=\"13,12\"></path><path d=\"M 73.2 74.1 L 73.2 61.0 L 189.4 61.0\" id=\"21,11\"></path><path d=\"M 96.5 87.1 L 96.5 74.9 L 189.4 74.9\" id=\"19,10\"></path><path d=\"M 119.7 99.3 L 119.7 88.8 L 189.4 88.8\" id=\"16,9\"></path><path d=\"M 142.9 109.7 L 142.9 102.7 L 189.4 102.7\" id=\"14,8\"></path><path d=\"M 142.9 109.7 L 142.9 116.6 L 189.4 116.6\" id=\"14,7\"></path><path d=\"M 96.5 137.5 L 96.5 130.5 L 189.4 130.5\" id=\"18,6\"></path><path d=\"M 96.5 137.5 L 96.5 144.5 L 189.4 144.5\" id=\"18,5\"></path><path d=\"M 96.5 171.4 L 96.5 158.4 L 189.4 158.4\" id=\"17,4\"></path><path d=\"M 119.7 184.4 L 119.7 172.3 L 189.4 172.3\" id=\"15,3\"></path><path d=\"M 142.9 196.6 L 142.9 186.2 L 189.4 186.2\" id=\"13,2\"></path><path d=\"M 166.1 207.0 L 166.1 200.1 L 189.4 200.1\" id=\"12,1\"></path><path d=\"M 166.1 207.0 L 166.1 214.0 L 189.4 214.0\" id=\"12,0\"></path></g><g class=\"toytree-Nodes\" style=\"fill:rgb(40%,76.1%,64.7%);fill-opacity:1.0;stroke:None;stroke-width:1\"><g id=\"node-0\" transform=\"translate(189.369,213.986)\"><circle r=\"0.0\"></circle></g><g id=\"node-1\" transform=\"translate(189.369,200.079)\"><circle r=\"0.0\"></circle></g><g id=\"node-2\" transform=\"translate(189.369,186.173)\"><circle r=\"0.0\"></circle></g><g id=\"node-3\" transform=\"translate(189.369,172.266)\"><circle r=\"0.0\"></circle></g><g id=\"node-4\" transform=\"translate(189.369,158.360)\"><circle r=\"0.0\"></circle></g><g id=\"node-5\" transform=\"translate(189.369,144.453)\"><circle r=\"0.0\"></circle></g><g id=\"node-6\" transform=\"translate(189.369,130.547)\"><circle r=\"0.0\"></circle></g><g id=\"node-7\" transform=\"translate(189.369,116.640)\"><circle r=\"0.0\"></circle></g><g id=\"node-8\" transform=\"translate(189.369,102.734)\"><circle r=\"0.0\"></circle></g><g id=\"node-9\" transform=\"translate(189.369,88.827)\"><circle r=\"0.0\"></circle></g><g id=\"node-10\" transform=\"translate(189.369,74.921)\"><circle r=\"0.0\"></circle></g><g id=\"node-11\" transform=\"translate(189.369,61.014)\"><circle r=\"0.0\"></circle></g><g id=\"node-12\" transform=\"translate(166.141,207.033)\"><circle r=\"6.0\"></circle></g><g id=\"node-13\" transform=\"translate(142.913,196.603)\"><circle r=\"6.0\"></circle></g><g id=\"node-14\" transform=\"translate(142.913,109.687)\"><circle r=\"6.0\"></circle></g><g id=\"node-15\" transform=\"translate(119.684,184.435)\"><circle r=\"6.0\"></circle></g><g id=\"node-16\" transform=\"translate(119.684,99.257)\"><circle r=\"6.0\"></circle></g><g id=\"node-17\" transform=\"translate(96.456,171.397)\"><circle r=\"6.0\"></circle></g><g id=\"node-18\" transform=\"translate(96.456,137.500)\"><circle r=\"6.0\"></circle></g><g id=\"node-19\" transform=\"translate(96.456,87.089)\"><circle r=\"6.0\"></circle></g><g id=\"node-20\" transform=\"translate(73.228,154.449)\"><circle r=\"6.0\"></circle></g><g id=\"node-21\" transform=\"translate(73.228,74.051)\"><circle r=\"6.0\"></circle></g><g id=\"node-22\" transform=\"translate(50.000,114.250)\"><circle r=\"0.0\"></circle></g></g><g class=\"toytree-NodeLabels\" style=\"fill:rgb(14.9%,14.9%,14.9%);fill-opacity:1.0;font-size:9px;stroke:none\"><g transform=\"translate(161.14,209.33)\"><text>12</text></g><g transform=\"translate(137.91,198.90)\"><text>13</text></g><g transform=\"translate(137.91,111.99)\"><text>14</text></g><g transform=\"translate(114.68,186.73)\"><text>15</text></g><g transform=\"translate(114.68,101.56)\"><text>16</text></g><g transform=\"translate(91.45,173.70)\"><text>17</text></g><g transform=\"translate(91.45,139.80)\"><text>18</text></g><g transform=\"translate(91.45,89.39)\"><text>19</text></g><g transform=\"translate(68.22,156.75)\"><text>20</text></g><g transform=\"translate(68.22,76.35)\"><text>21</text></g></g><g class=\"toytree-TipLabels\" style=\"fill:rgb(14.9%,14.9%,14.9%);fill-opacity:1.0;font-family:helvetica;font-size:11px;font-weight:normal;stroke:none;white-space:pre\"><g transform=\"translate(189.37,213.99)rotate(0)\"><text style=\"\" x=\"15.00\" y=\"2.81\">r0</text></g><g transform=\"translate(189.37,200.08)rotate(0)\"><text style=\"\" x=\"15.00\" y=\"2.81\">r1</text></g><g transform=\"translate(189.37,186.17)rotate(0)\"><text style=\"\" x=\"15.00\" y=\"2.81\">r2</text></g><g transform=\"translate(189.37,172.27)rotate(0)\"><text style=\"\" x=\"15.00\" y=\"2.81\">r3</text></g><g transform=\"translate(189.37,158.36)rotate(0)\"><text style=\"\" x=\"15.00\" y=\"2.81\">r4</text></g><g transform=\"translate(189.37,144.45)rotate(0)\"><text style=\"\" x=\"15.00\" y=\"2.81\">r5</text></g><g transform=\"translate(189.37,130.55)rotate(0)\"><text style=\"\" x=\"15.00\" y=\"2.81\">r6</text></g><g transform=\"translate(189.37,116.64)rotate(0)\"><text style=\"\" x=\"15.00\" y=\"2.81\">r7</text></g><g transform=\"translate(189.37,102.73)rotate(0)\"><text style=\"\" x=\"15.00\" y=\"2.81\">r8</text></g><g transform=\"translate(189.37,88.83)rotate(0)\"><text style=\"\" x=\"15.00\" y=\"2.81\">r9</text></g><g transform=\"translate(189.37,74.92)rotate(0)\"><text style=\"\" x=\"15.00\" y=\"2.81\">r10</text></g><g transform=\"translate(189.37,61.01)rotate(0)\"><text style=\"\" x=\"15.00\" y=\"2.81\">r11</text></g></g></g></g></g></svg><div class=\"toyplot-behavior\"><script>(function()\n",
       "{\n",
       "var modules={};\n",
       "})();</script></div></div>"
      ]
     },
     "metadata": {},
     "output_type": "display_data"
    }
   ],
   "source": [
    "tre = toytree.rtree.unittree(12, treeheight = 10e6, seed = 102)\n",
    "tree = tre.write(\"/home/henry/phylo-timescale/tree.tre\")\n",
    "\n",
    "ttree = toytree.tree(\"/home/henry/phylo-timescale/tree.tre\")\n",
    "ttree.draw(node_labels=\"idx\", node_sizes=12);"
   ]
  },
  {
   "cell_type": "code",
   "execution_count": 30,
   "metadata": {},
   "outputs": [],
   "source": [
    "class Simulator:\n",
    "    \n",
    "    def __init__(self, seed, sptree, ntrees):\n",
    "        \n",
    "        # Store initial arguments.\n",
    "        self.seed = seed # Seed for all instances of the class.  \n",
    "        self.sptree = sptree # True species tree.\n",
    "        self.ntrees = ntrees # Number of replicate trees.\n",
    "        # self.ntips = ntips  Number of tips.\n",
    "        \n",
    "        # Objects to be created.\n",
    "        self.reps = []\n",
    "        self.seqs = []\n",
    "        self.raxtrees = []\n",
    "        \n",
    "        # Organize results into a dataframe.\n",
    "        self.df = pd.DataFrame({\n",
    "            \n",
    "            # Trees with rate variation applied to edges.\n",
    "            \"rate_trees\": [\"\" for i in range(ntrees)],\n",
    "            \n",
    "            # Gene trees with variable edge lengths inferred by RAxML.\n",
    "            \"rax_trees\": [\"\" for i in range(ntrees)],\n",
    "            \n",
    "            # Number of SNPs from RAxML trees.\n",
    "            \"nsnps\": 0,\n",
    "\n",
    "            # Ultrametric trees inferred from chronos under relaxed model.\n",
    "            \"chr_trees_relax\": [\"\" for i in range(ntrees)],\n",
    "            \n",
    "            # # Ultrametric trees inferred from chronos under strict model.\n",
    "            \"chr_trees_strict\": [\"\" for i in range(ntrees)],\n",
    "            \n",
    "            # Error between tree from chronos and true tree.\n",
    "            \"error\" : [\"\" for i in range(ntrees)]\n",
    "        })\n",
    "        \n",
    "    # Execute all the major functions in a row.\n",
    "    def run(self, outdir, file_marker, path, min_ages, max_ages, tips, lamb):\n",
    "        self.batch_treedata()\n",
    "        self.batch_ipcoal()\n",
    "        self.batch_raxml()\n",
    "        self.batch_chronos()\n",
    "\n",
    "    def batch_treedata(self, outdir, file_marker):\n",
    "        '''\n",
    "        Apply rate variation to the edges of the species tree.\n",
    "        '''\n",
    "        \n",
    "        np.random.seed(self.seed)\n",
    "        self.reps = [self.sptree for i in range(self.ntrees)]\n",
    "        reps = []\n",
    "        counter = 0\n",
    "        for i in self.reps:\n",
    "        \n",
    "            # Increment counter.\n",
    "            counter +=1\n",
    "    \n",
    "            # Set Ne values from an interval onto tree.\n",
    "            dict_ne = {j.name : np.random.randint(5e5, 5e6) for j in i.get_feature_dict()}\n",
    "            i = i.set_node_values(\"Ne\", dict_ne)\n",
    "    \n",
    "            # Set g values from a normal distribution onto tree.\n",
    "            dict_g = {j.name : np.random.normal(1, 0.2) for j in i.get_feature_dict()}\n",
    "            i = i.set_node_values(\"g\", dict_g)\n",
    "    \n",
    "            # Divide edge lengths (absolute time) by generation time to convert tree to units of generations.\n",
    "            i = i.set_node_values(\n",
    "            \"dist\",\n",
    "            {j.name: j.dist / j.g for j in i.get_feature_dict()}\n",
    "            )\n",
    "    \n",
    "            # Save tree to a list and as a separate newick file.\n",
    "            reps.append(i)\n",
    "            savefile = outdir + file_marker + '{0:03}'.format(counter) + \".tre\"\n",
    "            i.write(savefile)\n",
    "            \n",
    "        # Save to instance variable and dataframe.\n",
    "        self.reps = reps\n",
    "        for i in self.df.index:\n",
    "            self.df.loc[i, \"rate_trees\"] = self.reps[i]\n",
    "    \n",
    "        return \"Saved \" + str(self.ntrees) + \" trees.\"\n",
    "    \n",
    "    def batch_ipcoal(self, outdir, file_marker):\n",
    "        '''\n",
    "        Generate sequence data on tree variants.\n",
    "        '''\n",
    "        \n",
    "        counter = 0\n",
    "        seqs = []\n",
    "        for i in self.reps:\n",
    "        \n",
    "            # Increment counter.\n",
    "            counter += 1\n",
    "        \n",
    "            # Run ipcoal.\n",
    "            model = ipcoal.Model(i, nsamples = 2, seed = self.seed) \n",
    "            model.sim_loci(1000, 100) # (loci, bp) \n",
    "            \n",
    "            # Write a diploid phylip file.\n",
    "            file = model.write_concat_to_phylip(outdir = outdir, diploid = True,\n",
    "                                      name = file_marker + \"_diploid\" + '{0:03}'.format(counter) + \".phy\")\n",
    "            seqs.append(outdir + file_marker + \"_diploid\" + '{0:03}'.format(counter) + \".phy\")\n",
    "            \n",
    "        # Save the list of concatenated phylip files to instance variable.   \n",
    "        self.seqs = seqs\n",
    "            \n",
    "    def batch_raxml(self, outdir, file_marker, outdir_for_chronos):\n",
    "        '''\n",
    "        Infer raxml trees from sequence data.\n",
    "        '''\n",
    "        \n",
    "        np.random.seed(self.seed)\n",
    "        raxtrees = []\n",
    "        counter = 0\n",
    "        for i in self.seqs:\n",
    "        \n",
    "            # Increment counter.\n",
    "            counter += 1\n",
    "        \n",
    "            # Define and run raxml object.\n",
    "            rax = ipa.raxml(\n",
    "                name = file_marker + '{0:03}'.format(counter),\n",
    "                data = i,\n",
    "                workdir = outdir,\n",
    "                N = 100,\n",
    "                T = 10 # Core assignment appropriate for pinky or other external server.\n",
    "            )\n",
    "            rax.run(force = True, block = False)\n",
    "            \n",
    "            # Take the raxml result and save as a newick string (required format for chronos).\n",
    "            rax_result = outdir + \"RAxML_bipartitions.\" + file_marker + '{0:03}'.format(counter)\n",
    "            rax_toytree = toytree.tree(rax_result).root([\"r7\", \"r8\", \"r9\", \"r10\", \"r11\"]) # Rooting midpoint of true tree.\n",
    "            rax_toytree.write(outdir_for_chronos + file_marker + '{0:03}'.format(counter) + \".tre\")\n",
    "            \n",
    "            # Add raxtree to list.\n",
    "            # raxtrees.append(outdir_for_chronos + file_marker + '{0:03}'.format(counter) + \".tre\")\n",
    "            raxtrees.append(rax_toytree)\n",
    "            \n",
    "        # Save to instance variable and dataframe.\n",
    "        self.raxtrees = raxtrees\n",
    "        for i in self.df.index:\n",
    "            self.df.loc[i, \"rax_trees\"] = self.raxtrees[i]\n",
    "            \n",
    "class Analysis:\n",
    "    \n",
    "    def __init__(self, seed, sptree, df):\n",
    "        \n",
    "        # Store initial arguments.\n",
    "        self.seed = seed\n",
    "        self.sptree = sptree\n",
    "        self.df = df\n",
    "        \n",
    "        # Objects to be created.\n",
    "        self.chrtrees = []\n",
    "        self.errors = []\n",
    "        \n",
    "    def batch_chronos(self, path_with_marker, min_ages, max_ages, tip1, tip2, lamb):\n",
    "        '''\n",
    "        Run chronos on raxml trees.  Format min_ages, max_ages, tip1 and tip2 as tuples of the same length, formatted with\n",
    "        double quotes enclosing parentheses, with constituent elements in single quotes.\n",
    "        Examples: min_ages = \"('5000000', '10000000')\"; tip1 = \"('r0', 'r4')\"\n",
    "        '''\n",
    "    \n",
    "        np.random.seed(self.seed)\n",
    "        chrtrees = []\n",
    "        counter = 0\n",
    "        for i in self.df[\"rax_trees\"]:\n",
    "        \n",
    "            # Increment counter.\n",
    "            counter += 1\n",
    "        \n",
    "            # Rstring with chronos information.\n",
    "            rstring = f\"\"\"library(ape)\n",
    "btree <- read.tree(\"{i}\")\n",
    "min_ages <- c{min_ages}\n",
    "max_ages <- c{max_ages}\n",
    "tip1 <- c{tip1}\n",
    "tip2 <- c{tip2}\n",
    "nodes <- c()\n",
    "for (i in 1:length(tip1)) {{\n",
    "    mrca <- getMRCA(btree, c(tip1[i], tip2[i]))\n",
    "    nodes <- append(nodes, mrca)\n",
    "}}\n",
    "calib <- data.frame(node = nodes, age.min = as.numeric(min_ages), age.max = as.numeric(max_ages))\n",
    "ctree <- chronos(btree, lambda = {lamb}, model = \"relaxed\", calibration = calib)\n",
    "write.tree(ctree)\"\"\"\n",
    "            \n",
    "            # Write the R script to a file.\n",
    "            with open(path_with_marker + '{0:03}'.format(counter) + \".R\", 'w') as out:\n",
    "                out.write(rstring)\n",
    "            \n",
    "            # byte = rstring.encode()\n",
    "            # temp = tempfile.NamedTemporaryFile()\n",
    "            # temp.write(byte)\n",
    "            # temp.seek(0)\n",
    "            # print(temp.read())\n",
    "    \n",
    "            cmd = [\"Rscript\", path_with_marker + '{0:03}'.format(counter) + \".R\"] # Runs R script saved to path.\n",
    "            out = subprocess.check_output(cmd).decode()\n",
    "            results, tree = [i.strip().strip('\"') for i in out.split(\"[1]\")]\n",
    "\n",
    "            # Add chronos tree to list.\n",
    "            chrtrees.append(tree)\n",
    "            \n",
    "            # temp.close()\n",
    "    \n",
    "        # Save to instance variable and dataframe.\n",
    "        self.chrtrees = chrtrees\n",
    "        for i in self.df.index:\n",
    "            self.df.loc[i, \"chr_trees_relax\"] = self.chrtrees[i]\n",
    "    \n",
    "    def calculate_error(self):\n",
    "        \"Calculate error between true tree and chronos trees.\"\n",
    "        \n",
    "        errors = []\n",
    "        \n",
    "        # Get edge lengths of true tree.\n",
    "        true_edge_lengths = self.sptree.get_edge_values(feature = \"height\")\n",
    "        \n",
    "        # For each chrtree, get edge lengths to subtract from true edge lengths.\n",
    "        for i in self.chrtrees:\n",
    "            chrtree = toytree.tree(i)\n",
    "            chr_edge_lengths = chrtree.get_edge_values(feature = \"height\")\n",
    "            subtract_array = true_edge_lengths - chr_edge_lengths\n",
    "            \n",
    "            # Square each element in the array.\n",
    "            squared_array = np.square(subtract_array)\n",
    "            \n",
    "            # Sum all elements in the array (sum of squares).\n",
    "            sum_squares = np.sum(squared_array)\n",
    "            \n",
    "            # Add error to list.\n",
    "            errors.append(sum_squares)\n",
    "            \n",
    "        # Save to instance variable and dataframe.\n",
    "        self.errors = errors\n",
    "        for i in self.df.index:\n",
    "            self.df.loc[i, \"error\"] = self.errors[i]\n",
    "    \n",
    "    def batch_mrbayes(self):\n",
    "        \"call mrbayes (maybe using ipa) to infer trees\"\n",
    "        pass"
   ]
  },
  {
   "cell_type": "code",
   "execution_count": 6,
   "metadata": {},
   "outputs": [],
   "source": [
    "# Initialize instance of class.\n",
    "sim = Simulator(seed = 234, sptree = ttree, ntrees = 100)"
   ]
  },
  {
   "cell_type": "code",
   "execution_count": 7,
   "metadata": {},
   "outputs": [
    {
     "data": {
      "text/plain": [
       "'Saved 100 trees.'"
      ]
     },
     "execution_count": 7,
     "metadata": {},
     "output_type": "execute_result"
    }
   ],
   "source": [
    "sim.batch_treedata(\"/pinky/henry/vary-ne/treedata/\", \"ttree\")"
   ]
  },
  {
   "cell_type": "code",
   "execution_count": null,
   "metadata": {
    "scrolled": true
   },
   "outputs": [
    {
     "name": "stdout",
     "output_type": "stream",
     "text": [
      "wrote concat locus (12 x 100000bp) to /pinky/henry/vary-ne/ipcoal/ttree_diploid001.phy\n",
      "wrote concat locus (12 x 100000bp) to /pinky/henry/vary-ne/ipcoal/ttree_diploid002.phy\n",
      "wrote concat locus (12 x 100000bp) to /pinky/henry/vary-ne/ipcoal/ttree_diploid003.phy\n",
      "wrote concat locus (12 x 100000bp) to /pinky/henry/vary-ne/ipcoal/ttree_diploid004.phy\n",
      "wrote concat locus (12 x 100000bp) to /pinky/henry/vary-ne/ipcoal/ttree_diploid005.phy\n",
      "wrote concat locus (12 x 100000bp) to /pinky/henry/vary-ne/ipcoal/ttree_diploid006.phy\n",
      "wrote concat locus (12 x 100000bp) to /pinky/henry/vary-ne/ipcoal/ttree_diploid007.phy\n",
      "wrote concat locus (12 x 100000bp) to /pinky/henry/vary-ne/ipcoal/ttree_diploid008.phy\n",
      "wrote concat locus (12 x 100000bp) to /pinky/henry/vary-ne/ipcoal/ttree_diploid009.phy\n",
      "wrote concat locus (12 x 100000bp) to /pinky/henry/vary-ne/ipcoal/ttree_diploid010.phy\n",
      "wrote concat locus (12 x 100000bp) to /pinky/henry/vary-ne/ipcoal/ttree_diploid011.phy\n",
      "wrote concat locus (12 x 100000bp) to /pinky/henry/vary-ne/ipcoal/ttree_diploid012.phy\n",
      "wrote concat locus (12 x 100000bp) to /pinky/henry/vary-ne/ipcoal/ttree_diploid013.phy\n",
      "wrote concat locus (12 x 100000bp) to /pinky/henry/vary-ne/ipcoal/ttree_diploid014.phy\n",
      "wrote concat locus (12 x 100000bp) to /pinky/henry/vary-ne/ipcoal/ttree_diploid015.phy\n",
      "wrote concat locus (12 x 100000bp) to /pinky/henry/vary-ne/ipcoal/ttree_diploid016.phy\n",
      "wrote concat locus (12 x 100000bp) to /pinky/henry/vary-ne/ipcoal/ttree_diploid017.phy\n",
      "wrote concat locus (12 x 100000bp) to /pinky/henry/vary-ne/ipcoal/ttree_diploid018.phy\n",
      "wrote concat locus (12 x 100000bp) to /pinky/henry/vary-ne/ipcoal/ttree_diploid019.phy\n",
      "wrote concat locus (12 x 100000bp) to /pinky/henry/vary-ne/ipcoal/ttree_diploid020.phy\n",
      "wrote concat locus (12 x 100000bp) to /pinky/henry/vary-ne/ipcoal/ttree_diploid021.phy\n",
      "wrote concat locus (12 x 100000bp) to /pinky/henry/vary-ne/ipcoal/ttree_diploid022.phy\n",
      "wrote concat locus (12 x 100000bp) to /pinky/henry/vary-ne/ipcoal/ttree_diploid023.phy\n",
      "wrote concat locus (12 x 100000bp) to /pinky/henry/vary-ne/ipcoal/ttree_diploid024.phy\n",
      "wrote concat locus (12 x 100000bp) to /pinky/henry/vary-ne/ipcoal/ttree_diploid025.phy\n",
      "wrote concat locus (12 x 100000bp) to /pinky/henry/vary-ne/ipcoal/ttree_diploid026.phy\n",
      "wrote concat locus (12 x 100000bp) to /pinky/henry/vary-ne/ipcoal/ttree_diploid027.phy\n",
      "wrote concat locus (12 x 100000bp) to /pinky/henry/vary-ne/ipcoal/ttree_diploid028.phy\n",
      "wrote concat locus (12 x 100000bp) to /pinky/henry/vary-ne/ipcoal/ttree_diploid029.phy\n"
     ]
    }
   ],
   "source": [
    "sim.batch_ipcoal(\"/pinky/henry/vary-ne/ipcoal/\", \"ttree\")"
   ]
  },
  {
   "cell_type": "code",
   "execution_count": 9,
   "metadata": {
    "scrolled": true
   },
   "outputs": [
    {
     "name": "stdout",
     "output_type": "stream",
     "text": [
      "job ttree001 finished successfully\n",
      "job ttree002 finished successfully\n",
      "job ttree003 finished successfully\n",
      "job ttree004 finished successfully\n",
      "job ttree005 finished successfully\n",
      "job ttree006 finished successfully\n",
      "job ttree007 finished successfully\n",
      "job ttree008 finished successfully\n",
      "job ttree009 finished successfully\n",
      "job ttree010 finished successfully\n",
      "job ttree011 finished successfully\n",
      "job ttree012 finished successfully\n",
      "job ttree013 finished successfully\n",
      "job ttree014 finished successfully\n",
      "job ttree015 finished successfully\n",
      "job ttree016 finished successfully\n",
      "job ttree017 finished successfully\n",
      "job ttree018 finished successfully\n",
      "job ttree019 finished successfully\n",
      "job ttree020 finished successfully\n",
      "job ttree021 finished successfully\n",
      "job ttree022 finished successfully\n",
      "job ttree023 finished successfully\n",
      "job ttree024 finished successfully\n",
      "job ttree025 finished successfully\n",
      "job ttree026 finished successfully\n",
      "job ttree027 finished successfully\n",
      "job ttree028 finished successfully\n",
      "job ttree029 finished successfully\n",
      "job ttree030 finished successfully\n",
      "job ttree031 finished successfully\n",
      "job ttree032 finished successfully\n",
      "job ttree033 finished successfully\n",
      "job ttree034 finished successfully\n",
      "job ttree035 finished successfully\n",
      "job ttree036 finished successfully\n",
      "job ttree037 finished successfully\n",
      "job ttree038 finished successfully\n",
      "job ttree039 finished successfully\n",
      "job ttree040 finished successfully\n",
      "job ttree041 finished successfully\n",
      "job ttree042 finished successfully\n",
      "job ttree043 finished successfully\n",
      "job ttree044 finished successfully\n",
      "job ttree045 finished successfully\n",
      "job ttree046 finished successfully\n",
      "job ttree047 finished successfully\n",
      "job ttree048 finished successfully\n",
      "job ttree049 finished successfully\n",
      "job ttree050 finished successfully\n",
      "job ttree051 finished successfully\n",
      "job ttree052 finished successfully\n",
      "job ttree053 finished successfully\n",
      "job ttree054 finished successfully\n",
      "job ttree055 finished successfully\n",
      "job ttree056 finished successfully\n",
      "job ttree057 finished successfully\n",
      "job ttree058 finished successfully\n",
      "job ttree059 finished successfully\n",
      "job ttree060 finished successfully\n",
      "job ttree061 finished successfully\n",
      "job ttree062 finished successfully\n",
      "job ttree063 finished successfully\n",
      "job ttree064 finished successfully\n",
      "job ttree065 finished successfully\n",
      "job ttree066 finished successfully\n",
      "job ttree067 finished successfully\n",
      "job ttree068 finished successfully\n",
      "job ttree069 finished successfully\n",
      "job ttree070 finished successfully\n",
      "job ttree071 finished successfully\n",
      "job ttree072 finished successfully\n",
      "job ttree073 finished successfully\n",
      "job ttree074 finished successfully\n",
      "job ttree075 finished successfully\n",
      "job ttree076 finished successfully\n",
      "job ttree077 finished successfully\n",
      "job ttree078 finished successfully\n",
      "job ttree079 finished successfully\n",
      "job ttree080 finished successfully\n",
      "job ttree081 finished successfully\n",
      "job ttree082 finished successfully\n",
      "job ttree083 finished successfully\n",
      "job ttree084 finished successfully\n",
      "job ttree085 finished successfully\n",
      "job ttree086 finished successfully\n",
      "job ttree087 finished successfully\n",
      "job ttree088 finished successfully\n",
      "job ttree089 finished successfully\n",
      "job ttree090 finished successfully\n",
      "job ttree091 finished successfully\n",
      "job ttree092 finished successfully\n",
      "job ttree093 finished successfully\n",
      "job ttree094 finished successfully\n",
      "job ttree095 finished successfully\n",
      "job ttree096 finished successfully\n",
      "job ttree097 finished successfully\n",
      "job ttree098 finished successfully\n",
      "job ttree099 finished successfully\n",
      "job ttree100 finished successfully\n"
     ]
    }
   ],
   "source": [
    "sim.batch_raxml(\"/pinky/henry/vary-ne/raxml/\", \"ttree\", \n",
    "                \"/pinky/henry/vary-ne/pre-chronos/\")"
   ]
  },
  {
   "cell_type": "code",
   "execution_count": 31,
   "metadata": {},
   "outputs": [],
   "source": [
    "A1 = Analysis(seed = sim.seed, df = sim.df.copy(), sptree = sim.sptree)\n",
    "A2 = Analysis(seed = sim.seed, df = sim.df.copy(), sptree = sim.sptree)\n",
    "A3 = Analysis(seed = sim.seed, df = sim.df.copy(), sptree = sim.sptree)"
   ]
  },
  {
   "cell_type": "code",
   "execution_count": 32,
   "metadata": {},
   "outputs": [],
   "source": [
    "# Shallow and root nodes.\n",
    "A1.batch_chronos(path_with_marker = \"/pinky/henry/vary-ne/post-chronos/ttree\", \n",
    "                  min_ages = \"('3000010', '8000000')\", max_ages = \"('7000010', '12000000')\",\n",
    "                  tip1 = \"('r7', 'r0')\", tip2 = \"('r9', 'r11')\", lamb = 0)\n",
    "\n",
    "# Shallow node only.\n",
    "A2.batch_chronos(path_with_marker = \"/pinky/henry/vary-ne/post-chronos2/ttree\", \n",
    "                  min_ages = \"('3000010')\", max_ages = \"('7000010')\",\n",
    "                  tip1 = \"('r7')\", tip2 = \"('r9')\", lamb = 0)\n",
    "\n",
    "# Root node only.\n",
    "A3.batch_chronos(path_with_marker = \"/pinky/henry/vary-ne/post-chronos3/ttree\", \n",
    "                  min_ages = \"('8000000')\", max_ages = \"('12000000')\",\n",
    "                  tip1 = \"('r0')\", tip2 = \"('r11')\", lamb = 0)"
   ]
  },
  {
   "cell_type": "code",
   "execution_count": 33,
   "metadata": {},
   "outputs": [],
   "source": [
    "A1.calculate_error()\n",
    "A2.calculate_error()\n",
    "A3.calculate_error()"
   ]
  },
  {
   "cell_type": "code",
   "execution_count": 34,
   "metadata": {},
   "outputs": [],
   "source": [
    "A4 = Analysis(seed = sim.seed, df = sim.df.copy(), sptree = sim.sptree)\n",
    "A5 = Analysis(seed = sim.seed, df = sim.df.copy(), sptree = sim.sptree)\n",
    "A6 = Analysis(seed = sim.seed, df = sim.df.copy(), sptree = sim.sptree)"
   ]
  },
  {
   "cell_type": "code",
   "execution_count": 35,
   "metadata": {},
   "outputs": [],
   "source": [
    "# Shallow and root nodes.\n",
    "A4.batch_chronos(path_with_marker = \"/pinky/henry/vary-ne/post-chronos/utree\", \n",
    "                  min_ages = \"('1000010', '5000000')\", max_ages = \"('9000010', '15000000')\",\n",
    "                  tip1 = \"('r7', 'r0')\", tip2 = \"('r9', 'r11')\", lamb = 0)\n",
    "\n",
    "# Shallow node only.\n",
    "A5.batch_chronos(path_with_marker = \"/pinky/henry/vary-ne/post-chronos2/utree\", \n",
    "                  min_ages = \"('1000010')\", max_ages = \"('9000010')\",\n",
    "                  tip1 = \"('r7')\", tip2 = \"('r9')\", lamb = 0)\n",
    "\n",
    "# Root node only.\n",
    "A6.batch_chronos(path_with_marker = \"/pinky/henry/vary-ne/post-chronos3/utree\", \n",
    "                  min_ages = \"('5000000')\", max_ages = \"('15000000')\",\n",
    "                  tip1 = \"('r0')\", tip2 = \"('r11')\", lamb = 0)"
   ]
  },
  {
   "cell_type": "code",
   "execution_count": 36,
   "metadata": {},
   "outputs": [],
   "source": [
    "A4.calculate_error()\n",
    "A5.calculate_error()\n",
    "A6.calculate_error()"
   ]
  },
  {
   "cell_type": "code",
   "execution_count": 25,
   "metadata": {},
   "outputs": [
    {
     "data": {
      "image/png": "[encoded data removed]",
      "text/plain": [
       "<Figure size 432x288 with 1 Axes>"
      ]
     },
     "metadata": {
      "needs_background": "light"
     },
     "output_type": "display_data"
    }
   ],
   "source": [
    "bins = np.linspace(5e13, 3e14, 100)\n",
    "\n",
    "plt.hist(A1.df[\"error\"], bins, facecolor='b', alpha=0.5, label = \"Shallow + root\")\n",
    "plt.hist(A2.df[\"error\"], bins, facecolor='r', alpha=0.5, label = \"Shallow only\")\n",
    "plt.hist(A3.df[\"error\"], bins, facecolor='g', alpha=0.5, label = \"Root only\")\n",
    "\n",
    "plt.legend(loc='upper right')\n",
    "plt.show()"
   ]
  },
  {
   "cell_type": "code",
   "execution_count": 38,
   "metadata": {},
   "outputs": [
    {
     "data": {
      "image/png": "[encoded data removed]",
      "text/plain": [
       "<Figure size 432x288 with 1 Axes>"
      ]
     },
     "metadata": {
      "needs_background": "light"
     },
     "output_type": "display_data"
    }
   ],
   "source": [
    "bins = np.linspace(5e13, 1.5e14, 100)\n",
    "\n",
    "plt.hist(A1.df[\"error\"], bins, facecolor='b', alpha=0.5, label = \"Shallow + root\")\n",
    "plt.hist(A2.df[\"error\"], bins, facecolor='r', alpha=0.5, label = \"Shallow only\")\n",
    "plt.hist(A3.df[\"error\"], bins, facecolor='g', alpha=0.5, label = \"Root only\")\n",
    "\n",
    "plt.legend(loc='upper right')\n",
    "plt.show()"
   ]
  },
  {
   "cell_type": "code",
   "execution_count": 29,
   "metadata": {},
   "outputs": [
    {
     "data": {
      "image/png": "[encoded data removed]",
      "text/plain": [
       "<Figure size 432x288 with 1 Axes>"
      ]
     },
     "metadata": {
      "needs_background": "light"
     },
     "output_type": "display_data"
    }
   ],
   "source": [
    "bins = np.linspace(5e13, 7e14, 100)\n",
    "\n",
    "plt.hist(A4.df[\"error\"], bins, facecolor='b', alpha=0.5, label = \"Shallow + root\")\n",
    "plt.hist(A5.df[\"error\"], bins, facecolor='r', alpha=0.5, label = \"Shallow only\")\n",
    "plt.hist(A6.df[\"error\"], bins, facecolor='g', alpha=0.5, label = \"Root only\")\n",
    "\n",
    "plt.legend(loc='upper right')\n",
    "plt.show()"
   ]
  },
  {
   "cell_type": "code",
   "execution_count": 39,
   "metadata": {},
   "outputs": [
    {
     "data": {
      "image/png": "[encoded data removed]",
      "text/plain": [
       "<Figure size 432x288 with 1 Axes>"
      ]
     },
     "metadata": {
      "needs_background": "light"
     },
     "output_type": "display_data"
    }
   ],
   "source": [
    "bins = np.linspace(5e13, 4e14, 100)\n",
    "\n",
    "plt.hist(A4.df[\"error\"], bins, facecolor='b', alpha=0.5, label = \"Shallow + root\")\n",
    "plt.hist(A5.df[\"error\"], bins, facecolor='r', alpha=0.5, label = \"Shallow only\")\n",
    "plt.hist(A6.df[\"error\"], bins, facecolor='g', alpha=0.5, label = \"Root only\")\n",
    "\n",
    "plt.legend(loc='upper right')\n",
    "plt.show()"
   ]
  }
 ],
 "metadata": {
  "kernelspec": {
   "display_name": "Python 3",
   "language": "python",
   "name": "python3"
  },
  "language_info": {
   "codemirror_mode": {
    "name": "ipython",
    "version": 3
   },
   "file_extension": ".py",
   "mimetype": "text/x-python",
   "name": "python",
   "nbconvert_exporter": "python",
   "pygments_lexer": "ipython3",
   "version": "3.7.9"
  }
 },
 "nbformat": 4,
 "nbformat_minor": 4
}
